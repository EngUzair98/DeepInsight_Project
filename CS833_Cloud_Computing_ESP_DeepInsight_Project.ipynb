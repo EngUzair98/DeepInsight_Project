{
  "nbformat": 4,
  "nbformat_minor": 0,
  "metadata": {
    "colab": {
      "provenance": []
    },
    "kernelspec": {
      "name": "python3",
      "display_name": "Python 3"
    },
    "language_info": {
      "name": "python"
    },
    "accelerator": "GPU",
    "gpuClass": "standard"
  },
  "cells": [
    {
      "cell_type": "markdown",
      "source": [
        "#Installing & Importing Libraries"
      ],
      "metadata": {
        "id": "yVayRshfosIS"
      }
    },
    {
      "cell_type": "code",
      "execution_count": 1,
      "metadata": {
        "id": "C9gurfXZmvLn"
      },
      "outputs": [],
      "source": [
        "# !pip install git+https://github.com/alok-ai-lab/pyDeepInsight"
      ]
    },
    {
      "cell_type": "code",
      "source": [
        "!pip install visualkeras"
      ],
      "metadata": {
        "colab": {
          "base_uri": "https://localhost:8080/"
        },
        "id": "ZV5aQ6JisLZz",
        "outputId": "f3871a75-e570-4c15-a4b2-08f100721935"
      },
      "execution_count": 2,
      "outputs": [
        {
          "output_type": "stream",
          "name": "stdout",
          "text": [
            "Looking in indexes: https://pypi.org/simple, https://us-python.pkg.dev/colab-wheels/public/simple/\n",
            "Collecting visualkeras\n",
            "  Downloading visualkeras-0.0.2-py3-none-any.whl (12 kB)\n",
            "Requirement already satisfied: numpy>=1.18.1 in /usr/local/lib/python3.8/dist-packages (from visualkeras) (1.21.6)\n",
            "Collecting aggdraw>=1.3.11\n",
            "  Downloading aggdraw-1.3.15-cp38-cp38-manylinux_2_17_x86_64.manylinux2014_x86_64.whl (992 kB)\n",
            "\u001b[K     |████████████████████████████████| 992 kB 24.0 MB/s \n",
            "\u001b[?25hRequirement already satisfied: pillow>=6.2.0 in /usr/local/lib/python3.8/dist-packages (from visualkeras) (7.1.2)\n",
            "Installing collected packages: aggdraw, visualkeras\n",
            "Successfully installed aggdraw-1.3.15 visualkeras-0.0.2\n"
          ]
        }
      ]
    },
    {
      "cell_type": "code",
      "source": [
        "!pip install git+https://github.com/alok-ai-lab/pyDeepInsight.git#egg=pyDeepInsight"
      ],
      "metadata": {
        "colab": {
          "base_uri": "https://localhost:8080/",
          "height": 1000
        },
        "id": "HDF50kn2wHMP",
        "outputId": "304469ea-eccb-4fff-fc21-bc7f0bc9f199"
      },
      "execution_count": 3,
      "outputs": [
        {
          "output_type": "stream",
          "name": "stdout",
          "text": [
            "Looking in indexes: https://pypi.org/simple, https://us-python.pkg.dev/colab-wheels/public/simple/\n",
            "Collecting pyDeepInsight\n",
            "  Cloning https://github.com/alok-ai-lab/pyDeepInsight.git to /tmp/pip-install-zbaajkpd/pydeepinsight_ba2a0048bb1348eab1504945d06b1333\n",
            "  Running command git clone -q https://github.com/alok-ai-lab/pyDeepInsight.git /tmp/pip-install-zbaajkpd/pydeepinsight_ba2a0048bb1348eab1504945d06b1333\n",
            "Requirement already satisfied: numpy in /usr/local/lib/python3.8/dist-packages (from pyDeepInsight) (1.21.6)\n",
            "Requirement already satisfied: scipy in /usr/local/lib/python3.8/dist-packages (from pyDeepInsight) (1.7.3)\n",
            "Requirement already satisfied: scikit-learn>=0.22 in /usr/local/lib/python3.8/dist-packages (from pyDeepInsight) (1.0.2)\n",
            "Requirement already satisfied: pandas in /usr/local/lib/python3.8/dist-packages (from pyDeepInsight) (1.3.5)\n",
            "Requirement already satisfied: matplotlib in /usr/local/lib/python3.8/dist-packages (from pyDeepInsight) (3.2.2)\n",
            "Requirement already satisfied: torch in /usr/local/lib/python3.8/dist-packages (from pyDeepInsight) (1.13.0+cu116)\n",
            "Collecting grad_cam\n",
            "  Downloading grad-cam-1.4.6.tar.gz (7.8 MB)\n",
            "\u001b[K     |████████████████████████████████| 7.8 MB 17.3 MB/s \n",
            "\u001b[?25h  Installing build dependencies ... \u001b[?25l\u001b[?25hdone\n",
            "  Getting requirements to build wheel ... \u001b[?25l\u001b[?25hdone\n",
            "    Preparing wheel metadata ... \u001b[?25l\u001b[?25hdone\n",
            "Collecting torchcam\n",
            "  Downloading torchcam-0.3.2-py3-none-any.whl (28 kB)\n",
            "Requirement already satisfied: threadpoolctl>=2.0.0 in /usr/local/lib/python3.8/dist-packages (from scikit-learn>=0.22->pyDeepInsight) (3.1.0)\n",
            "Requirement already satisfied: joblib>=0.11 in /usr/local/lib/python3.8/dist-packages (from scikit-learn>=0.22->pyDeepInsight) (1.2.0)\n",
            "Requirement already satisfied: opencv-python in /usr/local/lib/python3.8/dist-packages (from grad_cam->pyDeepInsight) (4.6.0.66)\n",
            "Requirement already satisfied: tqdm in /usr/local/lib/python3.8/dist-packages (from grad_cam->pyDeepInsight) (4.64.1)\n",
            "Requirement already satisfied: torchvision>=0.8.2 in /usr/local/lib/python3.8/dist-packages (from grad_cam->pyDeepInsight) (0.14.0+cu116)\n",
            "Collecting ttach\n",
            "  Downloading ttach-0.0.3-py3-none-any.whl (9.8 kB)\n",
            "Requirement already satisfied: Pillow in /usr/local/lib/python3.8/dist-packages (from grad_cam->pyDeepInsight) (7.1.2)\n",
            "Requirement already satisfied: typing-extensions in /usr/local/lib/python3.8/dist-packages (from torch->pyDeepInsight) (4.4.0)\n",
            "Requirement already satisfied: requests in /usr/local/lib/python3.8/dist-packages (from torchvision>=0.8.2->grad_cam->pyDeepInsight) (2.23.0)\n",
            "Requirement already satisfied: kiwisolver>=1.0.1 in /usr/local/lib/python3.8/dist-packages (from matplotlib->pyDeepInsight) (1.4.4)\n",
            "Requirement already satisfied: cycler>=0.10 in /usr/local/lib/python3.8/dist-packages (from matplotlib->pyDeepInsight) (0.11.0)\n",
            "Requirement already satisfied: pyparsing!=2.0.4,!=2.1.2,!=2.1.6,>=2.0.1 in /usr/local/lib/python3.8/dist-packages (from matplotlib->pyDeepInsight) (3.0.9)\n",
            "Requirement already satisfied: python-dateutil>=2.1 in /usr/local/lib/python3.8/dist-packages (from matplotlib->pyDeepInsight) (2.8.2)\n",
            "Requirement already satisfied: six>=1.5 in /usr/local/lib/python3.8/dist-packages (from python-dateutil>=2.1->matplotlib->pyDeepInsight) (1.15.0)\n",
            "Requirement already satisfied: pytz>=2017.3 in /usr/local/lib/python3.8/dist-packages (from pandas->pyDeepInsight) (2022.6)\n",
            "Requirement already satisfied: idna<3,>=2.5 in /usr/local/lib/python3.8/dist-packages (from requests->torchvision>=0.8.2->grad_cam->pyDeepInsight) (2.10)\n",
            "Requirement already satisfied: chardet<4,>=3.0.2 in /usr/local/lib/python3.8/dist-packages (from requests->torchvision>=0.8.2->grad_cam->pyDeepInsight) (3.0.4)\n",
            "Requirement already satisfied: urllib3!=1.25.0,!=1.25.1,<1.26,>=1.21.1 in /usr/local/lib/python3.8/dist-packages (from requests->torchvision>=0.8.2->grad_cam->pyDeepInsight) (1.24.3)\n",
            "Requirement already satisfied: certifi>=2017.4.17 in /usr/local/lib/python3.8/dist-packages (from requests->torchvision>=0.8.2->grad_cam->pyDeepInsight) (2022.12.7)\n",
            "Collecting Pillow\n",
            "  Downloading Pillow-9.4.0-cp38-cp38-manylinux_2_17_x86_64.manylinux2014_x86_64.whl (3.3 MB)\n",
            "\u001b[K     |████████████████████████████████| 3.3 MB 47.5 MB/s \n",
            "\u001b[?25hBuilding wheels for collected packages: pyDeepInsight, grad-cam\n",
            "  Building wheel for pyDeepInsight (setup.py) ... \u001b[?25l\u001b[?25hdone\n",
            "  Created wheel for pyDeepInsight: filename=pyDeepInsight-0.1.1-py3-none-any.whl size=22317 sha256=37cf15f8f3cc2a0ab5f4978b456f9405353257d4ef01014dce84a7bbe5dc513c\n",
            "  Stored in directory: /tmp/pip-ephem-wheel-cache-qqkpi81o/wheels/f7/22/ec/f3f26c35f6818e55dac2638660c94314acc16f32fe6bf72640\n",
            "  Building wheel for grad-cam (PEP 517) ... \u001b[?25l\u001b[?25hdone\n",
            "  Created wheel for grad-cam: filename=grad_cam-1.4.6-py3-none-any.whl size=38261 sha256=41c725ec89ad127970e682f3d4c74d569c05e49be70b4fb10c8ac718030968d2\n",
            "  Stored in directory: /root/.cache/pip/wheels/53/02/43/1f75726b5c28459596067ad91e36951463c01273eef661f09f\n",
            "Successfully built pyDeepInsight grad-cam\n",
            "Installing collected packages: Pillow, ttach, torchcam, grad-cam, pyDeepInsight\n",
            "  Attempting uninstall: Pillow\n",
            "    Found existing installation: Pillow 7.1.2\n",
            "    Uninstalling Pillow-7.1.2:\n",
            "      Successfully uninstalled Pillow-7.1.2\n",
            "Successfully installed Pillow-9.4.0 grad-cam-1.4.6 pyDeepInsight-0.1.1 torchcam-0.3.2 ttach-0.0.3\n"
          ]
        },
        {
          "output_type": "display_data",
          "data": {
            "application/vnd.colab-display-data+json": {
              "pip_warning": {
                "packages": [
                  "PIL"
                ]
              }
            }
          },
          "metadata": {}
        }
      ]
    },
    {
      "cell_type": "code",
      "source": [
        "import pandas as pd\n",
        "import numpy as np\n",
        "from pyDeepInsight import ImageTransformer\n",
        "from tensorflow.keras.utils import to_categorical\n",
        "from sklearn.model_selection import train_test_split\n",
        "from sklearn.metrics import classification_report, confusion_matrix\n",
        "import tensorflow as tf\n",
        "from tensorflow import keras\n",
        "from tensorflow.keras.models import Model, Sequential\n",
        "from tensorflow.keras.layers import Dense, Conv2D, Flatten, Dropout, MaxPooling2D, BatchNormalization, Input, Lambda\n",
        "from tensorflow.keras.applications.vgg16 import VGG16\n",
        "from tensorflow.keras.applications.vgg19 import VGG19\n",
        "from keras.callbacks import EarlyStopping\n",
        "from keras import regularizers\n",
        "import tensorflow_hub as tensorflow_hub\n",
        "import matplotlib.pyplot as plt\n",
        "import seaborn as sns\n",
        "import visualkeras\n",
        "from PIL import ImageFont\n",
        "\n",
        "from google.colab import drive\n",
        "drive.mount('/content/drive')"
      ],
      "metadata": {
        "colab": {
          "base_uri": "https://localhost:8080/"
        },
        "id": "1A_xMKhRsQWr",
        "outputId": "59777291-af6e-433e-9de0-e21101918662"
      },
      "execution_count": 2,
      "outputs": [
        {
          "output_type": "stream",
          "name": "stdout",
          "text": [
            "Drive already mounted at /content/drive; to attempt to forcibly remount, call drive.mount(\"/content/drive\", force_remount=True).\n"
          ]
        }
      ]
    },
    {
      "cell_type": "markdown",
      "source": [
        "#Loading & Preprocessing Data "
      ],
      "metadata": {
        "id": "dXmiW4qBq98h"
      }
    },
    {
      "cell_type": "markdown",
      "source": [
        "Analysing data available it was found that there were class labels  introduced in other csv files. To include all the class labels we took the best csv files and concatenated it to cover as much intusion atttacks (labels) as possible"
      ],
      "metadata": {
        "id": "EOWVGYRqFcR3"
      }
    },
    {
      "cell_type": "code",
      "source": [
        "intrusion_data01 = '/content/drive/MyDrive/CS833_CC_Data/Kaggle_Intrusion_Detction_Data_02-14-2018.csv'\n",
        "# intrusion_data02 = '/content/drive/MyDrive/CS833_CC_Data/Kaggle_Intrusion_Detction_Data_02-16-2018.csv'\n",
        "# intrusion_data03 = '/content/drive/MyDrive/CS833_CC_Data/Kaggle_Intrusion_Detction_Data_02-21-2018.csv'\n",
        "intrusion_data04 = '/content/drive/MyDrive/CS833_CC_Data/Kaggle_Intrusion_Detction_Data_03-01-2018.csv'\n",
        "intrusion_data05 = '/content/drive/MyDrive/CS833_CC_Data/Kaggle_Intrusion_Detction_Data_03-02-2018.csv'\n",
        "\n",
        "id_data01 = pd.read_csv(intrusion_data01)\n",
        "# id_data02 = pd.read_csv(intrusion_data02)\n",
        "# id_data03 = pd.read_csv(intrusion_data03)\n",
        "id_data04 = pd.read_csv(intrusion_data04)\n",
        "id_data05 = pd.read_csv(intrusion_data05)\n",
        "\n",
        "new_ID_data = pd.concat([id_data01,id_data04,id_data05])\n",
        "\n",
        "new_ID_data.head(5)"
      ],
      "metadata": {
        "colab": {
          "base_uri": "https://localhost:8080/",
          "height": 438
        },
        "id": "HILNmr-xw_lW",
        "outputId": "3ee4ee33-ba49-461c-a0e0-8c9b3c4f9422"
      },
      "execution_count": 3,
      "outputs": [
        {
          "output_type": "stream",
          "name": "stderr",
          "text": [
            "/usr/local/lib/python3.8/dist-packages/IPython/core/interactiveshell.py:3326: DtypeWarning: Columns (0,1,3,4,5,6,7,8,9,10,11,12,13,14,15,16,17,18,19,20,21,22,23,24,25,26,27,28,29,30,31,32,33,34,35,36,37,38,39,40,41,42,43,44,45,46,47,48,49,50,51,52,53,54,55,56,57,58,59,60,61,62,63,64,65,66,67,68,69,70,71,72,73,74,75,76,77,78) have mixed types.Specify dtype option on import or set low_memory=False.\n",
            "  exec(code_obj, self.user_global_ns, self.user_ns)\n"
          ]
        },
        {
          "output_type": "execute_result",
          "data": {
            "text/plain": [
              "  Dst Port Protocol            Timestamp Flow Duration Tot Fwd Pkts  \\\n",
              "0        0        0  14/02/2018 08:31:01     112641719            3   \n",
              "1        0        0  14/02/2018 08:33:50     112641466            3   \n",
              "2        0        0  14/02/2018 08:36:39     112638623            3   \n",
              "3       22        6  14/02/2018 08:40:13       6453966           15   \n",
              "4       22        6  14/02/2018 08:40:23       8804066           14   \n",
              "\n",
              "  Tot Bwd Pkts TotLen Fwd Pkts TotLen Bwd Pkts Fwd Pkt Len Max  \\\n",
              "0            0               0               0               0   \n",
              "1            0               0               0               0   \n",
              "2            0               0               0               0   \n",
              "3           10            1239            2273             744   \n",
              "4           11            1143            2209             744   \n",
              "\n",
              "  Fwd Pkt Len Min  ... Fwd Seg Size Min Active Mean Active Std Active Max  \\\n",
              "0               0  ...                0         0.0        0.0          0   \n",
              "1               0  ...                0         0.0        0.0          0   \n",
              "2               0  ...                0         0.0        0.0          0   \n",
              "3               0  ...               32         0.0        0.0          0   \n",
              "4               0  ...               32         0.0        0.0          0   \n",
              "\n",
              "  Active Min   Idle Mean    Idle Std  Idle Max  Idle Min   Label  \n",
              "0          0  56320859.5  139.300036  56320958  56320761  Benign  \n",
              "1          0  56320733.0  114.551299  56320814  56320652  Benign  \n",
              "2          0  56319311.5  301.934596  56319525  56319098  Benign  \n",
              "3          0         0.0         0.0         0         0  Benign  \n",
              "4          0         0.0         0.0         0         0  Benign  \n",
              "\n",
              "[5 rows x 80 columns]"
            ],
            "text/html": [
              "\n",
              "  <div id=\"df-1ba43d4e-e9ce-486c-9878-7408684bde37\">\n",
              "    <div class=\"colab-df-container\">\n",
              "      <div>\n",
              "<style scoped>\n",
              "    .dataframe tbody tr th:only-of-type {\n",
              "        vertical-align: middle;\n",
              "    }\n",
              "\n",
              "    .dataframe tbody tr th {\n",
              "        vertical-align: top;\n",
              "    }\n",
              "\n",
              "    .dataframe thead th {\n",
              "        text-align: right;\n",
              "    }\n",
              "</style>\n",
              "<table border=\"1\" class=\"dataframe\">\n",
              "  <thead>\n",
              "    <tr style=\"text-align: right;\">\n",
              "      <th></th>\n",
              "      <th>Dst Port</th>\n",
              "      <th>Protocol</th>\n",
              "      <th>Timestamp</th>\n",
              "      <th>Flow Duration</th>\n",
              "      <th>Tot Fwd Pkts</th>\n",
              "      <th>Tot Bwd Pkts</th>\n",
              "      <th>TotLen Fwd Pkts</th>\n",
              "      <th>TotLen Bwd Pkts</th>\n",
              "      <th>Fwd Pkt Len Max</th>\n",
              "      <th>Fwd Pkt Len Min</th>\n",
              "      <th>...</th>\n",
              "      <th>Fwd Seg Size Min</th>\n",
              "      <th>Active Mean</th>\n",
              "      <th>Active Std</th>\n",
              "      <th>Active Max</th>\n",
              "      <th>Active Min</th>\n",
              "      <th>Idle Mean</th>\n",
              "      <th>Idle Std</th>\n",
              "      <th>Idle Max</th>\n",
              "      <th>Idle Min</th>\n",
              "      <th>Label</th>\n",
              "    </tr>\n",
              "  </thead>\n",
              "  <tbody>\n",
              "    <tr>\n",
              "      <th>0</th>\n",
              "      <td>0</td>\n",
              "      <td>0</td>\n",
              "      <td>14/02/2018 08:31:01</td>\n",
              "      <td>112641719</td>\n",
              "      <td>3</td>\n",
              "      <td>0</td>\n",
              "      <td>0</td>\n",
              "      <td>0</td>\n",
              "      <td>0</td>\n",
              "      <td>0</td>\n",
              "      <td>...</td>\n",
              "      <td>0</td>\n",
              "      <td>0.0</td>\n",
              "      <td>0.0</td>\n",
              "      <td>0</td>\n",
              "      <td>0</td>\n",
              "      <td>56320859.5</td>\n",
              "      <td>139.300036</td>\n",
              "      <td>56320958</td>\n",
              "      <td>56320761</td>\n",
              "      <td>Benign</td>\n",
              "    </tr>\n",
              "    <tr>\n",
              "      <th>1</th>\n",
              "      <td>0</td>\n",
              "      <td>0</td>\n",
              "      <td>14/02/2018 08:33:50</td>\n",
              "      <td>112641466</td>\n",
              "      <td>3</td>\n",
              "      <td>0</td>\n",
              "      <td>0</td>\n",
              "      <td>0</td>\n",
              "      <td>0</td>\n",
              "      <td>0</td>\n",
              "      <td>...</td>\n",
              "      <td>0</td>\n",
              "      <td>0.0</td>\n",
              "      <td>0.0</td>\n",
              "      <td>0</td>\n",
              "      <td>0</td>\n",
              "      <td>56320733.0</td>\n",
              "      <td>114.551299</td>\n",
              "      <td>56320814</td>\n",
              "      <td>56320652</td>\n",
              "      <td>Benign</td>\n",
              "    </tr>\n",
              "    <tr>\n",
              "      <th>2</th>\n",
              "      <td>0</td>\n",
              "      <td>0</td>\n",
              "      <td>14/02/2018 08:36:39</td>\n",
              "      <td>112638623</td>\n",
              "      <td>3</td>\n",
              "      <td>0</td>\n",
              "      <td>0</td>\n",
              "      <td>0</td>\n",
              "      <td>0</td>\n",
              "      <td>0</td>\n",
              "      <td>...</td>\n",
              "      <td>0</td>\n",
              "      <td>0.0</td>\n",
              "      <td>0.0</td>\n",
              "      <td>0</td>\n",
              "      <td>0</td>\n",
              "      <td>56319311.5</td>\n",
              "      <td>301.934596</td>\n",
              "      <td>56319525</td>\n",
              "      <td>56319098</td>\n",
              "      <td>Benign</td>\n",
              "    </tr>\n",
              "    <tr>\n",
              "      <th>3</th>\n",
              "      <td>22</td>\n",
              "      <td>6</td>\n",
              "      <td>14/02/2018 08:40:13</td>\n",
              "      <td>6453966</td>\n",
              "      <td>15</td>\n",
              "      <td>10</td>\n",
              "      <td>1239</td>\n",
              "      <td>2273</td>\n",
              "      <td>744</td>\n",
              "      <td>0</td>\n",
              "      <td>...</td>\n",
              "      <td>32</td>\n",
              "      <td>0.0</td>\n",
              "      <td>0.0</td>\n",
              "      <td>0</td>\n",
              "      <td>0</td>\n",
              "      <td>0.0</td>\n",
              "      <td>0.0</td>\n",
              "      <td>0</td>\n",
              "      <td>0</td>\n",
              "      <td>Benign</td>\n",
              "    </tr>\n",
              "    <tr>\n",
              "      <th>4</th>\n",
              "      <td>22</td>\n",
              "      <td>6</td>\n",
              "      <td>14/02/2018 08:40:23</td>\n",
              "      <td>8804066</td>\n",
              "      <td>14</td>\n",
              "      <td>11</td>\n",
              "      <td>1143</td>\n",
              "      <td>2209</td>\n",
              "      <td>744</td>\n",
              "      <td>0</td>\n",
              "      <td>...</td>\n",
              "      <td>32</td>\n",
              "      <td>0.0</td>\n",
              "      <td>0.0</td>\n",
              "      <td>0</td>\n",
              "      <td>0</td>\n",
              "      <td>0.0</td>\n",
              "      <td>0.0</td>\n",
              "      <td>0</td>\n",
              "      <td>0</td>\n",
              "      <td>Benign</td>\n",
              "    </tr>\n",
              "  </tbody>\n",
              "</table>\n",
              "<p>5 rows × 80 columns</p>\n",
              "</div>\n",
              "      <button class=\"colab-df-convert\" onclick=\"convertToInteractive('df-1ba43d4e-e9ce-486c-9878-7408684bde37')\"\n",
              "              title=\"Convert this dataframe to an interactive table.\"\n",
              "              style=\"display:none;\">\n",
              "        \n",
              "  <svg xmlns=\"http://www.w3.org/2000/svg\" height=\"24px\"viewBox=\"0 0 24 24\"\n",
              "       width=\"24px\">\n",
              "    <path d=\"M0 0h24v24H0V0z\" fill=\"none\"/>\n",
              "    <path d=\"M18.56 5.44l.94 2.06.94-2.06 2.06-.94-2.06-.94-.94-2.06-.94 2.06-2.06.94zm-11 1L8.5 8.5l.94-2.06 2.06-.94-2.06-.94L8.5 2.5l-.94 2.06-2.06.94zm10 10l.94 2.06.94-2.06 2.06-.94-2.06-.94-.94-2.06-.94 2.06-2.06.94z\"/><path d=\"M17.41 7.96l-1.37-1.37c-.4-.4-.92-.59-1.43-.59-.52 0-1.04.2-1.43.59L10.3 9.45l-7.72 7.72c-.78.78-.78 2.05 0 2.83L4 21.41c.39.39.9.59 1.41.59.51 0 1.02-.2 1.41-.59l7.78-7.78 2.81-2.81c.8-.78.8-2.07 0-2.86zM5.41 20L4 18.59l7.72-7.72 1.47 1.35L5.41 20z\"/>\n",
              "  </svg>\n",
              "      </button>\n",
              "      \n",
              "  <style>\n",
              "    .colab-df-container {\n",
              "      display:flex;\n",
              "      flex-wrap:wrap;\n",
              "      gap: 12px;\n",
              "    }\n",
              "\n",
              "    .colab-df-convert {\n",
              "      background-color: #E8F0FE;\n",
              "      border: none;\n",
              "      border-radius: 50%;\n",
              "      cursor: pointer;\n",
              "      display: none;\n",
              "      fill: #1967D2;\n",
              "      height: 32px;\n",
              "      padding: 0 0 0 0;\n",
              "      width: 32px;\n",
              "    }\n",
              "\n",
              "    .colab-df-convert:hover {\n",
              "      background-color: #E2EBFA;\n",
              "      box-shadow: 0px 1px 2px rgba(60, 64, 67, 0.3), 0px 1px 3px 1px rgba(60, 64, 67, 0.15);\n",
              "      fill: #174EA6;\n",
              "    }\n",
              "\n",
              "    [theme=dark] .colab-df-convert {\n",
              "      background-color: #3B4455;\n",
              "      fill: #D2E3FC;\n",
              "    }\n",
              "\n",
              "    [theme=dark] .colab-df-convert:hover {\n",
              "      background-color: #434B5C;\n",
              "      box-shadow: 0px 1px 3px 1px rgba(0, 0, 0, 0.15);\n",
              "      filter: drop-shadow(0px 1px 2px rgba(0, 0, 0, 0.3));\n",
              "      fill: #FFFFFF;\n",
              "    }\n",
              "  </style>\n",
              "\n",
              "      <script>\n",
              "        const buttonEl =\n",
              "          document.querySelector('#df-1ba43d4e-e9ce-486c-9878-7408684bde37 button.colab-df-convert');\n",
              "        buttonEl.style.display =\n",
              "          google.colab.kernel.accessAllowed ? 'block' : 'none';\n",
              "\n",
              "        async function convertToInteractive(key) {\n",
              "          const element = document.querySelector('#df-1ba43d4e-e9ce-486c-9878-7408684bde37');\n",
              "          const dataTable =\n",
              "            await google.colab.kernel.invokeFunction('convertToInteractive',\n",
              "                                                     [key], {});\n",
              "          if (!dataTable) return;\n",
              "\n",
              "          const docLinkHtml = 'Like what you see? Visit the ' +\n",
              "            '<a target=\"_blank\" href=https://colab.research.google.com/notebooks/data_table.ipynb>data table notebook</a>'\n",
              "            + ' to learn more about interactive tables.';\n",
              "          element.innerHTML = '';\n",
              "          dataTable['output_type'] = 'display_data';\n",
              "          await google.colab.output.renderOutput(dataTable, element);\n",
              "          const docLink = document.createElement('div');\n",
              "          docLink.innerHTML = docLinkHtml;\n",
              "          element.appendChild(docLink);\n",
              "        }\n",
              "      </script>\n",
              "    </div>\n",
              "  </div>\n",
              "  "
            ]
          },
          "metadata": {},
          "execution_count": 3
        }
      ]
    },
    {
      "cell_type": "code",
      "source": [
        "new_ID_data.shape"
      ],
      "metadata": {
        "colab": {
          "base_uri": "https://localhost:8080/"
        },
        "id": "uixAwvsWyN-7",
        "outputId": "3924283f-042d-45f1-ee50-4faba2f471f8"
      },
      "execution_count": 4,
      "outputs": [
        {
          "output_type": "execute_result",
          "data": {
            "text/plain": [
              "(2428275, 80)"
            ]
          },
          "metadata": {},
          "execution_count": 4
        }
      ]
    },
    {
      "cell_type": "code",
      "source": [
        "new_ID_data.Label.value_counts()"
      ],
      "metadata": {
        "colab": {
          "base_uri": "https://localhost:8080/"
        },
        "id": "GEayS9Pdx3ie",
        "outputId": "0d8bc910-79dd-4ef2-917c-ec1c45e61b7e"
      },
      "execution_count": 5,
      "outputs": [
        {
          "output_type": "execute_result",
          "data": {
            "text/plain": [
              "Benign            1668047\n",
              "Bot                286191\n",
              "FTP-BruteForce     193360\n",
              "SSH-Bruteforce     187589\n",
              "Infilteration       93063\n",
              "Label                  25\n",
              "Name: Label, dtype: int64"
            ]
          },
          "metadata": {},
          "execution_count": 5
        }
      ]
    },
    {
      "cell_type": "code",
      "source": [
        "# new_ID_data['Label'] = new_ID_data.astype(str)"
      ],
      "metadata": {
        "id": "4uTmpUwLNEQH"
      },
      "execution_count": 6,
      "outputs": []
    },
    {
      "cell_type": "markdown",
      "source": [
        "Creating a subset of main data  for image transformation data. "
      ],
      "metadata": {
        "id": "VE6XrZx0lyuS"
      }
    },
    {
      "cell_type": "code",
      "source": [
        "shrink_data = new_ID_data.sample(frac=0.003)"
      ],
      "metadata": {
        "id": "EKYjp225H75P"
      },
      "execution_count": 7,
      "outputs": []
    },
    {
      "cell_type": "code",
      "source": [
        "shrink_data.shape"
      ],
      "metadata": {
        "colab": {
          "base_uri": "https://localhost:8080/"
        },
        "id": "gKgFpnAtI_4i",
        "outputId": "54008d41-5568-49d4-d926-c1104ff117ed"
      },
      "execution_count": 8,
      "outputs": [
        {
          "output_type": "execute_result",
          "data": {
            "text/plain": [
              "(7285, 80)"
            ]
          },
          "metadata": {},
          "execution_count": 8
        }
      ]
    },
    {
      "cell_type": "code",
      "source": [
        "shrink_data.Label.value_counts()"
      ],
      "metadata": {
        "colab": {
          "base_uri": "https://localhost:8080/"
        },
        "id": "SF0kgV1mJHWQ",
        "outputId": "06a3cd08-78d3-4611-fd30-94cdcb251e42"
      },
      "execution_count": 9,
      "outputs": [
        {
          "output_type": "execute_result",
          "data": {
            "text/plain": [
              "Benign            4962\n",
              "Bot                878\n",
              "FTP-BruteForce     581\n",
              "SSH-Bruteforce     573\n",
              "Infilteration      291\n",
              "Name: Label, dtype: int64"
            ]
          },
          "metadata": {},
          "execution_count": 9
        }
      ]
    },
    {
      "cell_type": "code",
      "source": [
        "shrink_data[\"Label\"] = shrink_data[\"Label\"].astype(\"string\")"
      ],
      "metadata": {
        "id": "E1jRg-mvNiPw"
      },
      "execution_count": 10,
      "outputs": []
    },
    {
      "cell_type": "code",
      "source": [
        "shrink_data.dtypes"
      ],
      "metadata": {
        "colab": {
          "base_uri": "https://localhost:8080/"
        },
        "id": "gdNgmqG_Vo-b",
        "outputId": "7a4de320-e7c1-4149-9a2f-28170032b095"
      },
      "execution_count": 11,
      "outputs": [
        {
          "output_type": "execute_result",
          "data": {
            "text/plain": [
              "Dst Port         object\n",
              "Protocol         object\n",
              "Timestamp        object\n",
              "Flow Duration    object\n",
              "Tot Fwd Pkts     object\n",
              "                  ...  \n",
              "Idle Mean        object\n",
              "Idle Std         object\n",
              "Idle Max         object\n",
              "Idle Min         object\n",
              "Label            string\n",
              "Length: 80, dtype: object"
            ]
          },
          "metadata": {},
          "execution_count": 11
        }
      ]
    },
    {
      "cell_type": "code",
      "source": [
        "def str2cat(value):\n",
        "  if value == \"Benign\":\n",
        "    return 0 \n",
        "  elif value == \"Bot\":\n",
        "    return 1\n",
        "  elif value == \"SSH-Bruteforce\":\n",
        "    return 2\n",
        "  elif value == \"FTP-BruteForce\":\n",
        "    return 3\n",
        "  elif value == \"Infilteration\":\n",
        "    return 4"
      ],
      "metadata": {
        "id": "03KcTz9rffOo"
      },
      "execution_count": 13,
      "outputs": []
    },
    {
      "cell_type": "code",
      "source": [
        "shrink_data[\"Label_cat\"] = shrink_data[\"Label\"].map(str2cat)"
      ],
      "metadata": {
        "id": "bUbn7cpNgp7w"
      },
      "execution_count": 14,
      "outputs": []
    },
    {
      "cell_type": "code",
      "source": [
        "shrink_data.head(5)"
      ],
      "metadata": {
        "colab": {
          "base_uri": "https://localhost:8080/",
          "height": 384
        },
        "id": "e87A4IGQg9FR",
        "outputId": "79682cf5-2d79-4bb9-d11f-35660500bd75"
      },
      "execution_count": 15,
      "outputs": [
        {
          "output_type": "execute_result",
          "data": {
            "text/plain": [
              "       Dst Port Protocol            Timestamp Flow Duration Tot Fwd Pkts  \\\n",
              "597042     3389        6  14/02/2018 10:16:40       2604083            9   \n",
              "536628       80        6  02/03/2018 09:14:09            85            2   \n",
              "659278    45581        6  02/03/2018 12:30:33      86394491            2   \n",
              "191689       22        6  14/02/2018 02:13:35        375031           22   \n",
              "149963       53       17  01/03/2018 02:55:27           300            1   \n",
              "\n",
              "       Tot Bwd Pkts TotLen Fwd Pkts TotLen Bwd Pkts Fwd Pkt Len Max  \\\n",
              "597042            7            1144            1581             677   \n",
              "536628            0               0             0.0               0   \n",
              "659278            0               0             0.0               0   \n",
              "191689           22            1960            2665             640   \n",
              "149963            1              42              58              42   \n",
              "\n",
              "       Fwd Pkt Len Min  ... Active Mean Active Std Active Max Active Min  \\\n",
              "597042               0  ...         0.0        0.0          0          0   \n",
              "536628               0  ...         0.0        0.0        0.0        0.0   \n",
              "659278               0  ...         0.0        0.0        0.0        0.0   \n",
              "191689               0  ...         0.0        0.0          0          0   \n",
              "149963              42  ...         0.0        0.0          0          0   \n",
              "\n",
              "         Idle Mean Idle Std    Idle Max    Idle Min           Label Label_cat  \n",
              "597042         0.0      0.0           0           0          Benign         0  \n",
              "536628         0.0      0.0         0.0         0.0          Benign         0  \n",
              "659278  86400000.0      0.0  86400000.0  86400000.0          Benign         0  \n",
              "191689         0.0      0.0           0           0  SSH-Bruteforce         2  \n",
              "149963         0.0      0.0           0           0   Infilteration         4  \n",
              "\n",
              "[5 rows x 81 columns]"
            ],
            "text/html": [
              "\n",
              "  <div id=\"df-3cff5982-1b6f-4048-80e1-2f48dd2e598e\">\n",
              "    <div class=\"colab-df-container\">\n",
              "      <div>\n",
              "<style scoped>\n",
              "    .dataframe tbody tr th:only-of-type {\n",
              "        vertical-align: middle;\n",
              "    }\n",
              "\n",
              "    .dataframe tbody tr th {\n",
              "        vertical-align: top;\n",
              "    }\n",
              "\n",
              "    .dataframe thead th {\n",
              "        text-align: right;\n",
              "    }\n",
              "</style>\n",
              "<table border=\"1\" class=\"dataframe\">\n",
              "  <thead>\n",
              "    <tr style=\"text-align: right;\">\n",
              "      <th></th>\n",
              "      <th>Dst Port</th>\n",
              "      <th>Protocol</th>\n",
              "      <th>Timestamp</th>\n",
              "      <th>Flow Duration</th>\n",
              "      <th>Tot Fwd Pkts</th>\n",
              "      <th>Tot Bwd Pkts</th>\n",
              "      <th>TotLen Fwd Pkts</th>\n",
              "      <th>TotLen Bwd Pkts</th>\n",
              "      <th>Fwd Pkt Len Max</th>\n",
              "      <th>Fwd Pkt Len Min</th>\n",
              "      <th>...</th>\n",
              "      <th>Active Mean</th>\n",
              "      <th>Active Std</th>\n",
              "      <th>Active Max</th>\n",
              "      <th>Active Min</th>\n",
              "      <th>Idle Mean</th>\n",
              "      <th>Idle Std</th>\n",
              "      <th>Idle Max</th>\n",
              "      <th>Idle Min</th>\n",
              "      <th>Label</th>\n",
              "      <th>Label_cat</th>\n",
              "    </tr>\n",
              "  </thead>\n",
              "  <tbody>\n",
              "    <tr>\n",
              "      <th>597042</th>\n",
              "      <td>3389</td>\n",
              "      <td>6</td>\n",
              "      <td>14/02/2018 10:16:40</td>\n",
              "      <td>2604083</td>\n",
              "      <td>9</td>\n",
              "      <td>7</td>\n",
              "      <td>1144</td>\n",
              "      <td>1581</td>\n",
              "      <td>677</td>\n",
              "      <td>0</td>\n",
              "      <td>...</td>\n",
              "      <td>0.0</td>\n",
              "      <td>0.0</td>\n",
              "      <td>0</td>\n",
              "      <td>0</td>\n",
              "      <td>0.0</td>\n",
              "      <td>0.0</td>\n",
              "      <td>0</td>\n",
              "      <td>0</td>\n",
              "      <td>Benign</td>\n",
              "      <td>0</td>\n",
              "    </tr>\n",
              "    <tr>\n",
              "      <th>536628</th>\n",
              "      <td>80</td>\n",
              "      <td>6</td>\n",
              "      <td>02/03/2018 09:14:09</td>\n",
              "      <td>85</td>\n",
              "      <td>2</td>\n",
              "      <td>0</td>\n",
              "      <td>0</td>\n",
              "      <td>0.0</td>\n",
              "      <td>0</td>\n",
              "      <td>0</td>\n",
              "      <td>...</td>\n",
              "      <td>0.0</td>\n",
              "      <td>0.0</td>\n",
              "      <td>0.0</td>\n",
              "      <td>0.0</td>\n",
              "      <td>0.0</td>\n",
              "      <td>0.0</td>\n",
              "      <td>0.0</td>\n",
              "      <td>0.0</td>\n",
              "      <td>Benign</td>\n",
              "      <td>0</td>\n",
              "    </tr>\n",
              "    <tr>\n",
              "      <th>659278</th>\n",
              "      <td>45581</td>\n",
              "      <td>6</td>\n",
              "      <td>02/03/2018 12:30:33</td>\n",
              "      <td>86394491</td>\n",
              "      <td>2</td>\n",
              "      <td>0</td>\n",
              "      <td>0</td>\n",
              "      <td>0.0</td>\n",
              "      <td>0</td>\n",
              "      <td>0</td>\n",
              "      <td>...</td>\n",
              "      <td>0.0</td>\n",
              "      <td>0.0</td>\n",
              "      <td>0.0</td>\n",
              "      <td>0.0</td>\n",
              "      <td>86400000.0</td>\n",
              "      <td>0.0</td>\n",
              "      <td>86400000.0</td>\n",
              "      <td>86400000.0</td>\n",
              "      <td>Benign</td>\n",
              "      <td>0</td>\n",
              "    </tr>\n",
              "    <tr>\n",
              "      <th>191689</th>\n",
              "      <td>22</td>\n",
              "      <td>6</td>\n",
              "      <td>14/02/2018 02:13:35</td>\n",
              "      <td>375031</td>\n",
              "      <td>22</td>\n",
              "      <td>22</td>\n",
              "      <td>1960</td>\n",
              "      <td>2665</td>\n",
              "      <td>640</td>\n",
              "      <td>0</td>\n",
              "      <td>...</td>\n",
              "      <td>0.0</td>\n",
              "      <td>0.0</td>\n",
              "      <td>0</td>\n",
              "      <td>0</td>\n",
              "      <td>0.0</td>\n",
              "      <td>0.0</td>\n",
              "      <td>0</td>\n",
              "      <td>0</td>\n",
              "      <td>SSH-Bruteforce</td>\n",
              "      <td>2</td>\n",
              "    </tr>\n",
              "    <tr>\n",
              "      <th>149963</th>\n",
              "      <td>53</td>\n",
              "      <td>17</td>\n",
              "      <td>01/03/2018 02:55:27</td>\n",
              "      <td>300</td>\n",
              "      <td>1</td>\n",
              "      <td>1</td>\n",
              "      <td>42</td>\n",
              "      <td>58</td>\n",
              "      <td>42</td>\n",
              "      <td>42</td>\n",
              "      <td>...</td>\n",
              "      <td>0.0</td>\n",
              "      <td>0.0</td>\n",
              "      <td>0</td>\n",
              "      <td>0</td>\n",
              "      <td>0.0</td>\n",
              "      <td>0.0</td>\n",
              "      <td>0</td>\n",
              "      <td>0</td>\n",
              "      <td>Infilteration</td>\n",
              "      <td>4</td>\n",
              "    </tr>\n",
              "  </tbody>\n",
              "</table>\n",
              "<p>5 rows × 81 columns</p>\n",
              "</div>\n",
              "      <button class=\"colab-df-convert\" onclick=\"convertToInteractive('df-3cff5982-1b6f-4048-80e1-2f48dd2e598e')\"\n",
              "              title=\"Convert this dataframe to an interactive table.\"\n",
              "              style=\"display:none;\">\n",
              "        \n",
              "  <svg xmlns=\"http://www.w3.org/2000/svg\" height=\"24px\"viewBox=\"0 0 24 24\"\n",
              "       width=\"24px\">\n",
              "    <path d=\"M0 0h24v24H0V0z\" fill=\"none\"/>\n",
              "    <path d=\"M18.56 5.44l.94 2.06.94-2.06 2.06-.94-2.06-.94-.94-2.06-.94 2.06-2.06.94zm-11 1L8.5 8.5l.94-2.06 2.06-.94-2.06-.94L8.5 2.5l-.94 2.06-2.06.94zm10 10l.94 2.06.94-2.06 2.06-.94-2.06-.94-.94-2.06-.94 2.06-2.06.94z\"/><path d=\"M17.41 7.96l-1.37-1.37c-.4-.4-.92-.59-1.43-.59-.52 0-1.04.2-1.43.59L10.3 9.45l-7.72 7.72c-.78.78-.78 2.05 0 2.83L4 21.41c.39.39.9.59 1.41.59.51 0 1.02-.2 1.41-.59l7.78-7.78 2.81-2.81c.8-.78.8-2.07 0-2.86zM5.41 20L4 18.59l7.72-7.72 1.47 1.35L5.41 20z\"/>\n",
              "  </svg>\n",
              "      </button>\n",
              "      \n",
              "  <style>\n",
              "    .colab-df-container {\n",
              "      display:flex;\n",
              "      flex-wrap:wrap;\n",
              "      gap: 12px;\n",
              "    }\n",
              "\n",
              "    .colab-df-convert {\n",
              "      background-color: #E8F0FE;\n",
              "      border: none;\n",
              "      border-radius: 50%;\n",
              "      cursor: pointer;\n",
              "      display: none;\n",
              "      fill: #1967D2;\n",
              "      height: 32px;\n",
              "      padding: 0 0 0 0;\n",
              "      width: 32px;\n",
              "    }\n",
              "\n",
              "    .colab-df-convert:hover {\n",
              "      background-color: #E2EBFA;\n",
              "      box-shadow: 0px 1px 2px rgba(60, 64, 67, 0.3), 0px 1px 3px 1px rgba(60, 64, 67, 0.15);\n",
              "      fill: #174EA6;\n",
              "    }\n",
              "\n",
              "    [theme=dark] .colab-df-convert {\n",
              "      background-color: #3B4455;\n",
              "      fill: #D2E3FC;\n",
              "    }\n",
              "\n",
              "    [theme=dark] .colab-df-convert:hover {\n",
              "      background-color: #434B5C;\n",
              "      box-shadow: 0px 1px 3px 1px rgba(0, 0, 0, 0.15);\n",
              "      filter: drop-shadow(0px 1px 2px rgba(0, 0, 0, 0.3));\n",
              "      fill: #FFFFFF;\n",
              "    }\n",
              "  </style>\n",
              "\n",
              "      <script>\n",
              "        const buttonEl =\n",
              "          document.querySelector('#df-3cff5982-1b6f-4048-80e1-2f48dd2e598e button.colab-df-convert');\n",
              "        buttonEl.style.display =\n",
              "          google.colab.kernel.accessAllowed ? 'block' : 'none';\n",
              "\n",
              "        async function convertToInteractive(key) {\n",
              "          const element = document.querySelector('#df-3cff5982-1b6f-4048-80e1-2f48dd2e598e');\n",
              "          const dataTable =\n",
              "            await google.colab.kernel.invokeFunction('convertToInteractive',\n",
              "                                                     [key], {});\n",
              "          if (!dataTable) return;\n",
              "\n",
              "          const docLinkHtml = 'Like what you see? Visit the ' +\n",
              "            '<a target=\"_blank\" href=https://colab.research.google.com/notebooks/data_table.ipynb>data table notebook</a>'\n",
              "            + ' to learn more about interactive tables.';\n",
              "          element.innerHTML = '';\n",
              "          dataTable['output_type'] = 'display_data';\n",
              "          await google.colab.output.renderOutput(dataTable, element);\n",
              "          const docLink = document.createElement('div');\n",
              "          docLink.innerHTML = docLinkHtml;\n",
              "          element.appendChild(docLink);\n",
              "        }\n",
              "      </script>\n",
              "    </div>\n",
              "  </div>\n",
              "  "
            ]
          },
          "metadata": {},
          "execution_count": 15
        }
      ]
    },
    {
      "cell_type": "code",
      "source": [
        "shrink_data=shrink_data.drop([\"Label\", \"Timestamp\", \"Protocol\",\"PSH Flag Cnt\",\"Init Fwd Win Byts\",\"Flow Byts/s\",\"Flow Pkts/s\"], axis=1)"
      ],
      "metadata": {
        "id": "wDNr9Pl3jnKj"
      },
      "execution_count": 16,
      "outputs": []
    },
    {
      "cell_type": "code",
      "source": [
        "#Checking for NaN values\n",
        "shrink_data.isna().sum().to_numpy()"
      ],
      "metadata": {
        "colab": {
          "base_uri": "https://localhost:8080/"
        },
        "id": "Petr9RvhuJwl",
        "outputId": "4d3eacb8-2904-4b89-fc5b-14c083c4e002"
      },
      "execution_count": 17,
      "outputs": [
        {
          "output_type": "execute_result",
          "data": {
            "text/plain": [
              "array([0, 0, 0, 0, 0, 0, 0, 0, 0, 0, 0, 0, 0, 0, 0, 0, 0, 0, 0, 0, 0, 0,\n",
              "       0, 0, 0, 0, 0, 0, 0, 0, 0, 0, 0, 0, 0, 0, 0, 0, 0, 0, 0, 0, 0, 0,\n",
              "       0, 0, 0, 0, 0, 0, 0, 0, 0, 0, 0, 0, 0, 0, 0, 0, 0, 0, 0, 0, 0, 0,\n",
              "       0, 0, 0, 0, 0, 0, 0, 0])"
            ]
          },
          "metadata": {},
          "execution_count": 17
        }
      ]
    },
    {
      "cell_type": "code",
      "source": [
        "#Droping NaN values\n",
        "shrink_data = shrink_data.dropna()"
      ],
      "metadata": {
        "id": "LgKqyVGvrmPb"
      },
      "execution_count": 18,
      "outputs": []
    },
    {
      "cell_type": "code",
      "source": [
        "shrink_data.isna().sum().to_numpy()"
      ],
      "metadata": {
        "colab": {
          "base_uri": "https://localhost:8080/"
        },
        "id": "ZqovC38uuC_M",
        "outputId": "a2424e95-74c4-45ef-8b06-5169fbfad199"
      },
      "execution_count": 19,
      "outputs": [
        {
          "output_type": "execute_result",
          "data": {
            "text/plain": [
              "array([0, 0, 0, 0, 0, 0, 0, 0, 0, 0, 0, 0, 0, 0, 0, 0, 0, 0, 0, 0, 0, 0,\n",
              "       0, 0, 0, 0, 0, 0, 0, 0, 0, 0, 0, 0, 0, 0, 0, 0, 0, 0, 0, 0, 0, 0,\n",
              "       0, 0, 0, 0, 0, 0, 0, 0, 0, 0, 0, 0, 0, 0, 0, 0, 0, 0, 0, 0, 0, 0,\n",
              "       0, 0, 0, 0, 0, 0, 0, 0])"
            ]
          },
          "metadata": {},
          "execution_count": 19
        }
      ]
    },
    {
      "cell_type": "code",
      "source": [
        "shrink_data.dtypes"
      ],
      "metadata": {
        "colab": {
          "base_uri": "https://localhost:8080/"
        },
        "id": "8IQOE46CNtP7",
        "outputId": "3c692a6c-c85c-43d5-857b-e1a081bfe03a"
      },
      "execution_count": 20,
      "outputs": [
        {
          "output_type": "execute_result",
          "data": {
            "text/plain": [
              "Dst Port           object\n",
              "Flow Duration      object\n",
              "Tot Fwd Pkts       object\n",
              "Tot Bwd Pkts       object\n",
              "TotLen Fwd Pkts    object\n",
              "                    ...  \n",
              "Idle Mean          object\n",
              "Idle Std           object\n",
              "Idle Max           object\n",
              "Idle Min           object\n",
              "Label_cat           int64\n",
              "Length: 74, dtype: object"
            ]
          },
          "metadata": {},
          "execution_count": 20
        }
      ]
    },
    {
      "cell_type": "code",
      "source": [
        "shrink_data.shape"
      ],
      "metadata": {
        "colab": {
          "base_uri": "https://localhost:8080/"
        },
        "id": "cjXMR5OQr05H",
        "outputId": "9b9d10f0-142c-4be1-9590-b8065cefca13"
      },
      "execution_count": 21,
      "outputs": [
        {
          "output_type": "execute_result",
          "data": {
            "text/plain": [
              "(7285, 74)"
            ]
          },
          "metadata": {},
          "execution_count": 21
        }
      ]
    },
    {
      "cell_type": "code",
      "source": [
        "labl_data = shrink_data['Label_cat'].values\n",
        "features_data = shrink_data.iloc[:, 1:].values\n",
        "\n",
        "features_train, features_test, labl_train, labl_test = train_test_split(features_data,labl_data, test_size=0.2, random_state=45)\n",
        "\n",
        "features_train.shape"
      ],
      "metadata": {
        "colab": {
          "base_uri": "https://localhost:8080/"
        },
        "id": "PNv9U68jyGEw",
        "outputId": "a6228622-dee4-4d8c-b6a5-6fada6797ddd"
      },
      "execution_count": 22,
      "outputs": [
        {
          "output_type": "execute_result",
          "data": {
            "text/plain": [
              "(5828, 73)"
            ]
          },
          "metadata": {},
          "execution_count": 22
        }
      ]
    },
    {
      "cell_type": "code",
      "source": [
        "shrink_data.Label_cat.value_counts()"
      ],
      "metadata": {
        "colab": {
          "base_uri": "https://localhost:8080/"
        },
        "id": "ClEDR4CATSQl",
        "outputId": "8def47e6-96e9-4226-dd40-3fd9aefb59e5"
      },
      "execution_count": 23,
      "outputs": [
        {
          "output_type": "execute_result",
          "data": {
            "text/plain": [
              "0    4962\n",
              "1     878\n",
              "3     581\n",
              "2     573\n",
              "4     291\n",
              "Name: Label_cat, dtype: int64"
            ]
          },
          "metadata": {},
          "execution_count": 23
        }
      ]
    },
    {
      "cell_type": "code",
      "source": [
        "labl_train = to_categorical(labl_train)\n",
        "labl_test = to_categorical(labl_test)"
      ],
      "metadata": {
        "id": "uN-eZGGTKJYK"
      },
      "execution_count": 24,
      "outputs": []
    },
    {
      "cell_type": "code",
      "source": [
        "print(\"Training Fetures Data Shape: \", features_train.shape)\n",
        "print(\"Training Labels Data Shape: \", labl_train.shape)\n",
        "print(\"Test Fetures Data Shape: \", features_test.shape)\n",
        "print(\"Test Label Data Shape: \", labl_test.shape)"
      ],
      "metadata": {
        "colab": {
          "base_uri": "https://localhost:8080/"
        },
        "id": "3gQM4AZxKhUr",
        "outputId": "69b0dee2-3d7f-431f-edf4-d5d51582fba1"
      },
      "execution_count": 25,
      "outputs": [
        {
          "output_type": "stream",
          "name": "stdout",
          "text": [
            "Training Fetures Data Shape:  (5828, 73)\n",
            "Training Labels Data Shape:  (5828, 5)\n",
            "Test Fetures Data Shape:  (1457, 73)\n",
            "Test Label Data Shape:  (1457, 5)\n"
          ]
        }
      ]
    },
    {
      "cell_type": "markdown",
      "source": [
        "#Transforming Data into Image Data"
      ],
      "metadata": {
        "id": "dZcmrHo1mN9M"
      }
    },
    {
      "cell_type": "code",
      "source": [
        "img_transformer = ImageTransformer(feature_extractor='tsne', pixels = 80)\n",
        "\n",
        "img_train = img_transformer.fit_transform(features_train)\n",
        "img_test = img_transformer.fit_transform(features_test)"
      ],
      "metadata": {
        "colab": {
          "base_uri": "https://localhost:8080/"
        },
        "id": "dwwu7PBNEQV3",
        "outputId": "34def1e0-42a2-4275-f6ab-76cd3eb6e5c2"
      },
      "execution_count": 36,
      "outputs": [
        {
          "output_type": "stream",
          "name": "stderr",
          "text": [
            "/usr/local/lib/python3.8/dist-packages/sklearn/manifold/_t_sne.py:780: FutureWarning: The default initialization in TSNE will change from 'random' to 'pca' in 1.2.\n",
            "  warnings.warn(\n",
            "/usr/local/lib/python3.8/dist-packages/sklearn/manifold/_t_sne.py:790: FutureWarning: The default learning rate in TSNE will change from 200.0 to 'auto' in 1.2.\n",
            "  warnings.warn(\n",
            "/usr/local/lib/python3.8/dist-packages/sklearn/manifold/_t_sne.py:819: FutureWarning: 'square_distances' has been introduced in 0.24 to help phase out legacy squaring behavior. The 'legacy' setting will be removed in 1.1 (renaming of 0.26), and the default setting will be changed to True. In 1.3, 'square_distances' will be removed altogether, and distances will be squared by default. Set 'square_distances'=True to silence this warning.\n",
            "  warnings.warn(\n",
            "/usr/local/lib/python3.8/dist-packages/pandas/core/groupby/generic.py:1094: PerformanceWarning: DataFrame is highly fragmented.  This is usually the result of calling `frame.insert` many times, which has poor performance.  Consider joining all columns at once using pd.concat(axis=1) instead.  To get a de-fragmented frame, use `newframe = frame.copy()`\n",
            "  return self._wrap_agged_manager(new_mgr)\n",
            "/usr/local/lib/python3.8/dist-packages/sklearn/manifold/_t_sne.py:780: FutureWarning: The default initialization in TSNE will change from 'random' to 'pca' in 1.2.\n",
            "  warnings.warn(\n",
            "/usr/local/lib/python3.8/dist-packages/sklearn/manifold/_t_sne.py:790: FutureWarning: The default learning rate in TSNE will change from 200.0 to 'auto' in 1.2.\n",
            "  warnings.warn(\n",
            "/usr/local/lib/python3.8/dist-packages/sklearn/manifold/_t_sne.py:819: FutureWarning: 'square_distances' has been introduced in 0.24 to help phase out legacy squaring behavior. The 'legacy' setting will be removed in 1.1 (renaming of 0.26), and the default setting will be changed to True. In 1.3, 'square_distances' will be removed altogether, and distances will be squared by default. Set 'square_distances'=True to silence this warning.\n",
            "  warnings.warn(\n",
            "/usr/local/lib/python3.8/dist-packages/pandas/core/groupby/generic.py:1094: PerformanceWarning: DataFrame is highly fragmented.  This is usually the result of calling `frame.insert` many times, which has poor performance.  Consider joining all columns at once using pd.concat(axis=1) instead.  To get a de-fragmented frame, use `newframe = frame.copy()`\n",
            "  return self._wrap_agged_manager(new_mgr)\n"
          ]
        }
      ]
    },
    {
      "cell_type": "markdown",
      "source": [
        "#Visualizing Training Image Data Set"
      ],
      "metadata": {
        "id": "2pJ4eT1jw5Q8"
      }
    },
    {
      "cell_type": "code",
      "source": [
        "img_size = (15,15)\n",
        "img=plt.figure(figsize=img_size)\n",
        "img.suptitle(\"Training Image Dataset\", fontsize=12)\n",
        "for i in range(12):\n",
        "  plt.subplot(3,4,i+1)\n",
        "  img_shape= img_train[i].shape\n",
        "  img_index=np.random.randint(img_train.shape[0])\n",
        "  plt.imshow(img_train[img_index].astype(np.uint8))\n",
        "\n",
        "plt.show()"
      ],
      "metadata": {
        "colab": {
          "base_uri": "https://localhost:8080/",
          "height": 942
        },
        "id": "NVKbkjBHndUl",
        "outputId": "aa49d265-f463-4953-e007-79d05f7429a9"
      },
      "execution_count": 37,
      "outputs": [
        {
          "output_type": "display_data",
          "data": {
            "text/plain": [
              "<Figure size 1080x1080 with 12 Axes>"
            ],
            "image/png": "[encoded data removed]"
          },
          "metadata": {
            "needs_background": "light"
          }
        }
      ]
    },
    {
      "cell_type": "markdown",
      "source": [
        "# CNN Model"
      ],
      "metadata": {
        "id": "6Y1xsPg3y-ss"
      }
    },
    {
      "cell_type": "code",
      "source": [
        "cnn5mod=Sequential([\n",
        "    #1st CNN Layer\n",
        "    Conv2D(filters=16, kernel_size=(1,1), strides=(1,1), padding = 'valid', activation = 'relu', input_shape=(80,80,3)),\n",
        "    MaxPooling2D(pool_size=(2,2)),\n",
        "    #2nd CNN Layer\n",
        "    Conv2D(filters=16, kernel_size=(1,1), strides=(1,1), padding = 'valid', activation = 'relu'),\n",
        "    MaxPooling2D(pool_size=(2,2)),\n",
        "    #3rd CNN Layer\n",
        "    Conv2D(filters=32, kernel_size=(1,1), strides=(1,1), padding = 'valid', activation = 'relu'),\n",
        "    MaxPooling2D(pool_size=(2,2)),\n",
        "    #4th CNN Layer\n",
        "    Conv2D(filters=64, kernel_size=(1,1), strides=(1,1), padding = 'valid', activation = 'relu'),\n",
        "    MaxPooling2D(pool_size=(2,2)),\n",
        "    #5th CNN Layer\n",
        "    Conv2D(filters=128, kernel_size=(1,1), strides=(1,1), padding = 'valid', activation = 'relu'),\n",
        "    MaxPooling2D(pool_size=(2,2)),\n",
        "    Flatten(),\n",
        "    Dense(256,activation = 'relu'),\n",
        "    #Op Layer\n",
        "    Dense(5, activation= 'softmax')\n",
        "])\n",
        "cnn5mod.compile(optimizer='adam', loss='categorical_crossentropy', metrics = ['accuracy'])\n",
        "cnn5mod.summary()"
      ],
      "metadata": {
        "colab": {
          "base_uri": "https://localhost:8080/"
        },
        "id": "VzmivCjI0qA0",
        "outputId": "4b65d954-75b6-4bd8-c29c-714d9d577e5d"
      },
      "execution_count": 34,
      "outputs": [
        {
          "output_type": "stream",
          "name": "stdout",
          "text": [
            "Model: \"sequential_7\"\n",
            "_________________________________________________________________\n",
            " Layer (type)                Output Shape              Param #   \n",
            "=================================================================\n",
            " conv2d_16 (Conv2D)          (None, 80, 80, 16)        64        \n",
            "                                                                 \n",
            " max_pooling2d_16 (MaxPoolin  (None, 40, 40, 16)       0         \n",
            " g2D)                                                            \n",
            "                                                                 \n",
            " conv2d_17 (Conv2D)          (None, 40, 40, 16)        272       \n",
            "                                                                 \n",
            " max_pooling2d_17 (MaxPoolin  (None, 20, 20, 16)       0         \n",
            " g2D)                                                            \n",
            "                                                                 \n",
            " conv2d_18 (Conv2D)          (None, 20, 20, 32)        544       \n",
            "                                                                 \n",
            " max_pooling2d_18 (MaxPoolin  (None, 10, 10, 32)       0         \n",
            " g2D)                                                            \n",
            "                                                                 \n",
            " conv2d_19 (Conv2D)          (None, 10, 10, 64)        2112      \n",
            "                                                                 \n",
            " max_pooling2d_19 (MaxPoolin  (None, 5, 5, 64)         0         \n",
            " g2D)                                                            \n",
            "                                                                 \n",
            " conv2d_20 (Conv2D)          (None, 5, 5, 128)         8320      \n",
            "                                                                 \n",
            " max_pooling2d_20 (MaxPoolin  (None, 2, 2, 128)        0         \n",
            " g2D)                                                            \n",
            "                                                                 \n",
            " flatten_7 (Flatten)         (None, 512)               0         \n",
            "                                                                 \n",
            " dense_19 (Dense)            (None, 256)               131328    \n",
            "                                                                 \n",
            " dense_20 (Dense)            (None, 5)                 1285      \n",
            "                                                                 \n",
            "=================================================================\n",
            "Total params: 143,925\n",
            "Trainable params: 143,925\n",
            "Non-trainable params: 0\n",
            "_________________________________________________________________\n"
          ]
        }
      ]
    },
    {
      "cell_type": "code",
      "source": [
        "font = ImageFont.load_default()\n",
        "visualkeras.layered_view(cnn5mod, legend=True, font=font, to_file='cnn5mod_visual_archtecture.png')"
      ],
      "metadata": {
        "colab": {
          "base_uri": "https://localhost:8080/",
          "height": 480
        },
        "id": "ej0SzbZMK1jB",
        "outputId": "5e6b564e-64e9-4aa7-9393-275ed29dcedf"
      },
      "execution_count": 35,
      "outputs": [
        {
          "output_type": "execute_result",
          "data": {
            "text/plain": [
              "<PIL.Image.Image image mode=RGBA size=494x463>"
            ],
            "image/png": "[encoded data removed]"
          },
          "metadata": {},
          "execution_count": 35
        }
      ]
    },
    {
      "cell_type": "code",
      "source": [
        "history = cnn5mod.fit(img_train, labl_train, batch_size =32, epochs= 50, validation_split=0.2)"
      ],
      "metadata": {
        "colab": {
          "base_uri": "https://localhost:8080/"
        },
        "id": "_93874zy4yyM",
        "outputId": "d94f6e56-305f-4829-8c75-283756d81fc8"
      },
      "execution_count": 39,
      "outputs": [
        {
          "output_type": "stream",
          "name": "stdout",
          "text": [
            "Epoch 1/50\n",
            "146/146 [==============================] - 1s 10ms/step - loss: 0.9362 - accuracy: 0.6733 - val_loss: 0.9201 - val_accuracy: 0.6295\n",
            "Epoch 2/50\n",
            "146/146 [==============================] - 1s 8ms/step - loss: 0.9415 - accuracy: 0.6752 - val_loss: 1.1063 - val_accuracy: 0.6732\n",
            "Epoch 3/50\n",
            "146/146 [==============================] - 1s 7ms/step - loss: 0.9519 - accuracy: 0.6705 - val_loss: 0.9862 - val_accuracy: 0.6295\n",
            "Epoch 4/50\n",
            "146/146 [==============================] - 1s 7ms/step - loss: 0.9327 - accuracy: 0.6731 - val_loss: 0.9438 - val_accuracy: 0.6295\n",
            "Epoch 5/50\n",
            "146/146 [==============================] - 1s 7ms/step - loss: 0.9569 - accuracy: 0.6690 - val_loss: 1.1167 - val_accuracy: 0.6732\n",
            "Epoch 6/50\n",
            "146/146 [==============================] - 1s 7ms/step - loss: 0.9438 - accuracy: 0.6740 - val_loss: 0.9667 - val_accuracy: 0.6295\n",
            "Epoch 7/50\n",
            "146/146 [==============================] - 1s 8ms/step - loss: 0.9320 - accuracy: 0.6699 - val_loss: 0.9720 - val_accuracy: 0.6732\n",
            "Epoch 8/50\n",
            "146/146 [==============================] - 1s 7ms/step - loss: 0.9469 - accuracy: 0.6714 - val_loss: 0.9519 - val_accuracy: 0.6732\n",
            "Epoch 9/50\n",
            "146/146 [==============================] - 1s 7ms/step - loss: 0.9510 - accuracy: 0.6695 - val_loss: 0.9272 - val_accuracy: 0.6295\n",
            "Epoch 10/50\n",
            "146/146 [==============================] - 1s 7ms/step - loss: 0.9267 - accuracy: 0.6759 - val_loss: 0.9044 - val_accuracy: 0.6732\n",
            "Epoch 11/50\n",
            "146/146 [==============================] - 1s 7ms/step - loss: 0.9239 - accuracy: 0.6746 - val_loss: 0.8893 - val_accuracy: 0.6732\n",
            "Epoch 12/50\n",
            "146/146 [==============================] - 1s 8ms/step - loss: 0.9394 - accuracy: 0.6733 - val_loss: 0.8957 - val_accuracy: 0.6732\n",
            "Epoch 13/50\n",
            "146/146 [==============================] - 1s 8ms/step - loss: 0.9206 - accuracy: 0.6755 - val_loss: 0.9047 - val_accuracy: 0.6732\n",
            "Epoch 14/50\n",
            "146/146 [==============================] - 1s 7ms/step - loss: 0.9313 - accuracy: 0.6744 - val_loss: 0.9059 - val_accuracy: 0.6329\n",
            "Epoch 15/50\n",
            "146/146 [==============================] - 1s 7ms/step - loss: 0.9088 - accuracy: 0.6707 - val_loss: 0.9526 - val_accuracy: 0.6732\n",
            "Epoch 16/50\n",
            "146/146 [==============================] - 1s 7ms/step - loss: 0.9351 - accuracy: 0.6703 - val_loss: 0.8914 - val_accuracy: 0.6732\n",
            "Epoch 17/50\n",
            "146/146 [==============================] - 1s 8ms/step - loss: 0.9103 - accuracy: 0.6701 - val_loss: 0.8830 - val_accuracy: 0.6732\n",
            "Epoch 18/50\n",
            "146/146 [==============================] - 1s 8ms/step - loss: 0.9050 - accuracy: 0.6707 - val_loss: 0.8752 - val_accuracy: 0.6732\n",
            "Epoch 19/50\n",
            "146/146 [==============================] - 1s 7ms/step - loss: 0.8916 - accuracy: 0.6748 - val_loss: 0.8881 - val_accuracy: 0.6732\n",
            "Epoch 20/50\n",
            "146/146 [==============================] - 1s 9ms/step - loss: 0.8994 - accuracy: 0.6707 - val_loss: 0.8564 - val_accuracy: 0.6732\n",
            "Epoch 21/50\n",
            "146/146 [==============================] - 1s 8ms/step - loss: 0.8653 - accuracy: 0.6778 - val_loss: 0.9047 - val_accuracy: 0.6732\n",
            "Epoch 22/50\n",
            "146/146 [==============================] - 1s 7ms/step - loss: 0.8480 - accuracy: 0.6770 - val_loss: 0.8236 - val_accuracy: 0.6732\n",
            "Epoch 23/50\n",
            "146/146 [==============================] - 1s 8ms/step - loss: 0.8306 - accuracy: 0.6772 - val_loss: 0.8364 - val_accuracy: 0.6329\n",
            "Epoch 24/50\n",
            "146/146 [==============================] - 1s 7ms/step - loss: 0.8202 - accuracy: 0.6770 - val_loss: 0.7964 - val_accuracy: 0.6732\n",
            "Epoch 25/50\n",
            "146/146 [==============================] - 1s 8ms/step - loss: 0.8012 - accuracy: 0.6761 - val_loss: 0.7709 - val_accuracy: 0.6732\n",
            "Epoch 26/50\n",
            "146/146 [==============================] - 1s 8ms/step - loss: 0.7820 - accuracy: 0.7031 - val_loss: 0.7529 - val_accuracy: 0.7581\n",
            "Epoch 27/50\n",
            "146/146 [==============================] - 1s 7ms/step - loss: 0.7625 - accuracy: 0.7196 - val_loss: 0.7474 - val_accuracy: 0.6381\n",
            "Epoch 28/50\n",
            "146/146 [==============================] - 1s 7ms/step - loss: 0.7545 - accuracy: 0.7364 - val_loss: 0.7220 - val_accuracy: 0.7479\n",
            "Epoch 29/50\n",
            "146/146 [==============================] - 1s 8ms/step - loss: 0.7468 - accuracy: 0.7402 - val_loss: 0.7215 - val_accuracy: 0.7230\n",
            "Epoch 30/50\n",
            "146/146 [==============================] - 1s 7ms/step - loss: 0.7282 - accuracy: 0.7422 - val_loss: 0.7317 - val_accuracy: 0.7547\n",
            "Epoch 31/50\n",
            "146/146 [==============================] - 1s 8ms/step - loss: 0.7230 - accuracy: 0.7390 - val_loss: 0.6945 - val_accuracy: 0.7479\n",
            "Epoch 32/50\n",
            "146/146 [==============================] - 1s 8ms/step - loss: 0.6972 - accuracy: 0.7450 - val_loss: 0.6929 - val_accuracy: 0.7479\n",
            "Epoch 33/50\n",
            "146/146 [==============================] - 1s 9ms/step - loss: 0.6864 - accuracy: 0.7435 - val_loss: 0.6933 - val_accuracy: 0.7479\n",
            "Epoch 34/50\n",
            "146/146 [==============================] - 1s 7ms/step - loss: 0.6852 - accuracy: 0.7402 - val_loss: 0.6552 - val_accuracy: 0.7479\n",
            "Epoch 35/50\n",
            "146/146 [==============================] - 1s 7ms/step - loss: 0.6691 - accuracy: 0.7411 - val_loss: 0.6985 - val_accuracy: 0.7067\n",
            "Epoch 36/50\n",
            "146/146 [==============================] - 1s 7ms/step - loss: 0.6603 - accuracy: 0.7402 - val_loss: 0.6346 - val_accuracy: 0.7496\n",
            "Epoch 37/50\n",
            "146/146 [==============================] - 1s 7ms/step - loss: 0.6422 - accuracy: 0.7445 - val_loss: 0.6457 - val_accuracy: 0.7504\n",
            "Epoch 38/50\n",
            "146/146 [==============================] - 1s 7ms/step - loss: 0.6397 - accuracy: 0.7439 - val_loss: 0.6106 - val_accuracy: 0.7496\n",
            "Epoch 39/50\n",
            "146/146 [==============================] - 1s 7ms/step - loss: 11007.0781 - accuracy: 0.6446 - val_loss: 3317.9612 - val_accuracy: 0.6732\n",
            "Epoch 40/50\n",
            "146/146 [==============================] - 1s 7ms/step - loss: 439.4790 - accuracy: 0.6403 - val_loss: 0.9168 - val_accuracy: 0.6732\n",
            "Epoch 41/50\n",
            "146/146 [==============================] - 1s 7ms/step - loss: 0.9120 - accuracy: 0.6800 - val_loss: 0.9093 - val_accuracy: 0.6732\n",
            "Epoch 42/50\n",
            "146/146 [==============================] - 1s 7ms/step - loss: 0.9050 - accuracy: 0.6808 - val_loss: 0.9008 - val_accuracy: 0.6732\n",
            "Epoch 43/50\n",
            "146/146 [==============================] - 1s 7ms/step - loss: 0.9028 - accuracy: 0.6825 - val_loss: 0.9055 - val_accuracy: 0.6732\n",
            "Epoch 44/50\n",
            "146/146 [==============================] - 1s 7ms/step - loss: 0.9018 - accuracy: 0.6819 - val_loss: 0.8999 - val_accuracy: 0.6732\n",
            "Epoch 45/50\n",
            "146/146 [==============================] - 1s 8ms/step - loss: 0.9001 - accuracy: 0.6823 - val_loss: 0.9117 - val_accuracy: 0.6295\n",
            "Epoch 46/50\n",
            "146/146 [==============================] - 1s 7ms/step - loss: 0.9013 - accuracy: 0.6834 - val_loss: 0.9012 - val_accuracy: 0.6732\n",
            "Epoch 47/50\n",
            "146/146 [==============================] - 1s 7ms/step - loss: 0.8984 - accuracy: 0.6845 - val_loss: 0.9022 - val_accuracy: 0.6732\n",
            "Epoch 48/50\n",
            "146/146 [==============================] - 1s 7ms/step - loss: 0.8942 - accuracy: 0.6821 - val_loss: 0.8886 - val_accuracy: 0.6732\n",
            "Epoch 49/50\n",
            "146/146 [==============================] - 1s 7ms/step - loss: 0.8755 - accuracy: 0.6834 - val_loss: 0.8595 - val_accuracy: 0.6732\n",
            "Epoch 50/50\n",
            "146/146 [==============================] - 1s 8ms/step - loss: 0.8296 - accuracy: 0.6845 - val_loss: 0.7860 - val_accuracy: 0.6732\n"
          ]
        }
      ]
    },
    {
      "cell_type": "code",
      "source": [
        "train_acc=history.history['accuracy']\n",
        "train_loss=history.history['loss']\n",
        "\n",
        "test_acc=history.history['val_accuracy']\n",
        "test_loss=history.history['val_loss']\n",
        "\n",
        "plt.figure(figsize=(10,10))\n",
        "#Plotting Accuracy \n",
        "plt.subplot(2,2,1)\n",
        "plt.plot(train_acc,'bo--', label='Training Accuracy')\n",
        "plt.plot(test_acc, 'ro--',label='Validation Accuracy')\n",
        "plt.ylabel('Accuracy')\n",
        "plt.xlabel('Epochs')\n",
        "plt.legend()\n",
        "plt.title('Training Vs Validation Accuracy')\n",
        "\n",
        "#Plotting Loss Function\n",
        "plt.subplot(2,2,2) \n",
        "plt.plot(train_loss,'bo--', label='Training Loss')\n",
        "plt.plot(test_loss, 'ro--',label='Validation Loss')\n",
        "plt.ylabel('Loss')\n",
        "plt.xlabel('Epochs')\n",
        "plt.legend()\n",
        "plt.title('Training Vs Validation Loss')\n",
        "plt.show()"
      ],
      "metadata": {
        "colab": {
          "base_uri": "https://localhost:8080/",
          "height": 325
        },
        "id": "IGDuYQXU5J_x",
        "outputId": "7fde847f-5821-485a-ec0c-5638de2c731f"
      },
      "execution_count": 40,
      "outputs": [
        {
          "output_type": "display_data",
          "data": {
            "text/plain": [
              "<Figure size 720x720 with 2 Axes>"
            ],
            "image/png": "[encoded data removed]"
          },
          "metadata": {
            "needs_background": "light"
          }
        }
      ]
    },
    {
      "cell_type": "code",
      "source": [
        "eval_model = cnn5mod.evaluate(img_test, labl_test)"
      ],
      "metadata": {
        "colab": {
          "base_uri": "https://localhost:8080/"
        },
        "id": "IQxPQY3V8jbk",
        "outputId": "b336986b-8f6c-4927-e4d3-0b3c7684e230"
      },
      "execution_count": 41,
      "outputs": [
        {
          "output_type": "stream",
          "name": "stdout",
          "text": [
            "46/46 [==============================] - 0s 4ms/step - loss: 1.5387 - accuracy: 0.3610\n"
          ]
        }
      ]
    },
    {
      "cell_type": "code",
      "source": [
        "#Model Prediction on test dataset\n",
        "labl_names = {'Benign':0, 'Bot':1, 'SSH-Bruteforce':2, 'FTP-BruteForce':3, 'Infilteration':4}\n",
        "labl_true = np.argmax(labl_test, axis=1)\n",
        "labl_pred = np.argmax(cnn5mod.predict(img_test), axis=-1)\n",
        "print(\"CNN Five Classification Report:\\n\", classification_report(labl_true,labl_pred, target_names= labl_names))"
      ],
      "metadata": {
        "colab": {
          "base_uri": "https://localhost:8080/"
        },
        "id": "p2NO7WeP85oQ",
        "outputId": "4e607cef-2863-41cd-e5b1-d75d13f20866"
      },
      "execution_count": 42,
      "outputs": [
        {
          "output_type": "stream",
          "name": "stdout",
          "text": [
            "46/46 [==============================] - 0s 3ms/step\n",
            "CNN Classification Report:\n",
            "                 precision    recall  f1-score   support\n",
            "\n",
            "        Benign       0.61      0.53      0.57       997\n",
            "           Bot       0.00      0.00      0.00       186\n",
            "SSH-Bruteforce       0.00      0.00      0.00       108\n",
            "FTP-BruteForce       0.00      0.00      0.00       120\n",
            " Infilteration       0.00      0.00      0.00        46\n",
            "\n",
            "      accuracy                           0.36      1457\n",
            "     macro avg       0.12      0.11      0.11      1457\n",
            "  weighted avg       0.42      0.36      0.39      1457\n",
            "\n"
          ]
        },
        {
          "output_type": "stream",
          "name": "stderr",
          "text": [
            "/usr/local/lib/python3.8/dist-packages/sklearn/metrics/_classification.py:1318: UndefinedMetricWarning: Precision and F-score are ill-defined and being set to 0.0 in labels with no predicted samples. Use `zero_division` parameter to control this behavior.\n",
            "  _warn_prf(average, modifier, msg_start, len(result))\n",
            "/usr/local/lib/python3.8/dist-packages/sklearn/metrics/_classification.py:1318: UndefinedMetricWarning: Precision and F-score are ill-defined and being set to 0.0 in labels with no predicted samples. Use `zero_division` parameter to control this behavior.\n",
            "  _warn_prf(average, modifier, msg_start, len(result))\n",
            "/usr/local/lib/python3.8/dist-packages/sklearn/metrics/_classification.py:1318: UndefinedMetricWarning: Precision and F-score are ill-defined and being set to 0.0 in labels with no predicted samples. Use `zero_division` parameter to control this behavior.\n",
            "  _warn_prf(average, modifier, msg_start, len(result))\n"
          ]
        }
      ]
    },
    {
      "cell_type": "code",
      "source": [
        "cm = confusion_matrix(labl_true, labl_pred)\n",
        "cm_precent = (cm/np.sum(cm))*100\n",
        "sns.heatmap(cm_precent, cmap = 'winter', center=0, square=True, annot=True, xticklabels=labl_names, yticklabels=labl_names, cbar=False)\n",
        "plt.xlabel(\"Predicted\")\n",
        "plt.ylabel(\"Actual\")"
      ],
      "metadata": {
        "colab": {
          "base_uri": "https://localhost:8080/",
          "height": 362
        },
        "id": "b3MgKyMP-Y3C",
        "outputId": "9570bc9d-1854-4e11-dd7b-9cfbc6ee208d"
      },
      "execution_count": 43,
      "outputs": [
        {
          "output_type": "execute_result",
          "data": {
            "text/plain": [
              "Text(91.68, 0.5, 'Actual')"
            ]
          },
          "metadata": {},
          "execution_count": 43
        },
        {
          "output_type": "display_data",
          "data": {
            "text/plain": [
              "<Figure size 432x288 with 1 Axes>"
            ],
            "image/png": "[encoded data removed]"
          },
          "metadata": {
            "needs_background": "light"
          }
        }
      ]
    }
  ]
}